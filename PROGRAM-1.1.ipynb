{
 "cells": [
  {
   "cell_type": "code",
   "execution_count": 4,
   "id": "d85edd4e",
   "metadata": {},
   "outputs": [
    {
     "name": "stdout",
     "output_type": "stream",
     "text": [
      "Largest element is: 100\n"
     ]
    }
   ],
   "source": [
    "#FIND LARGEST NUMBER FROM A LIST\n",
    "\n",
    "list1 = [10, 30, 4, 55, 100]\n",
    "print(\"Largest element is:\", max(list1))"
   ]
  },
  {
   "cell_type": "code",
   "execution_count": 7,
   "id": "48a8ba9b",
   "metadata": {},
   "outputs": [
    {
     "name": "stdout",
     "output_type": "stream",
     "text": [
      "The original list is : [1, 5, 3, 6, 3, 5, 6, 1]\n",
      "The list after removing duplicates : [1, 3, 5, 6]\n"
     ]
    }
   ],
   "source": [
    "# REMOVE DUPLICATE FROM A LIST\n",
    "\n",
    "# initializing list\n",
    "test_list = [1, 5, 3, 6, 3, 5, 6, 1]\n",
    "print (\"The original list is : \"\n",
    "        + str(test_list))\n",
    "\n",
    "# using set() to remove duplicated from list\n",
    "test_list = list(set(test_list))\n",
    "\n",
    "# printing list after removal\n",
    "# distorted ordering\n",
    "print (\"The list after removing duplicates : \"\n",
    "        + str(test_list))\n"
   ]
  },
  {
   "cell_type": "code",
   "execution_count": 10,
   "id": "b821ba07",
   "metadata": {},
   "outputs": [
    {
     "name": "stdout",
     "output_type": "stream",
     "text": [
      "Enter the name :DAVID\n",
      "Enter the age:50\n",
      "First Dictionary Is: {'name': 'DAVID', 'age': '50'}\n",
      "Enter The Color:BLUE\n",
      "Enter The Flower Name:ASTER\n",
      "Second Dictionary Is: {'color': 'BLUE', 'flower': 'ASTER'}\n",
      "Merge Dictionary Is {'name': 'DAVID', 'age': '50', 'color': 'BLUE', 'flower': 'ASTER'}\n"
     ]
    }
   ],
   "source": [
    "#MERGE TWO DICTIONARIES\n",
    "\n",
    "d1={}\n",
    "name=input(\"Enter the name :\")\n",
    "age=input(\"Enter the age:\")\n",
    "d1['name']=name\n",
    "d1['age']=age\n",
    "print(\"First Dictionary Is:\",d1)\n",
    "d2={}\n",
    "color=input(\"Enter The Color:\")\n",
    "flower=input(\"Enter The Flower Name:\")\n",
    "d2['color']=color\n",
    "d2['flower']=flower\n",
    "print(\"Second Dictionary Is:\",d2)\n",
    "d3=d1\n",
    "d1.update(d2)\n",
    "print(\"Merge Dictionary Is\",d3)\n"
   ]
  },
  {
   "cell_type": "code",
   "execution_count": 14,
   "id": "d9a0bd0c",
   "metadata": {},
   "outputs": [
    {
     "name": "stdout",
     "output_type": "stream",
     "text": [
      "True\n",
      "True\n",
      "List have at least one common member\n"
     ]
    }
   ],
   "source": [
    "#TWO LIST AND RETURN TRUE THEY HAVE COMMON NUMBER\n",
    "\n",
    "list1=[1,2,3,4,5,6]\n",
    "list2=[5,6,7,8,9,10]\n",
    "result=False\n",
    "for x in list1:\n",
    "    for y in list2:\n",
    "        if x==y:\n",
    "            result=True\n",
    "            print(result)\n",
    "if result:\n",
    "    print(\"List have at least one common member\")\n",
    "else:\n",
    "    print(\"List do not have any common member\")"
   ]
  },
  {
   "cell_type": "code",
   "execution_count": 13,
   "id": "75db2166",
   "metadata": {},
   "outputs": [
    {
     "name": "stdout",
     "output_type": "stream",
     "text": [
      "Largest element is: 100\n"
     ]
    }
   ],
   "source": []
  },
  {
   "cell_type": "code",
   "execution_count": null,
   "id": "526a019a",
   "metadata": {},
   "outputs": [],
   "source": []
  }
 ],
 "metadata": {
  "kernelspec": {
   "display_name": "Python 3 (ipykernel)",
   "language": "python",
   "name": "python3"
  },
  "language_info": {
   "codemirror_mode": {
    "name": "ipython",
    "version": 3
   },
   "file_extension": ".py",
   "mimetype": "text/x-python",
   "name": "python",
   "nbconvert_exporter": "python",
   "pygments_lexer": "ipython3",
   "version": "3.10.12"
  }
 },
 "nbformat": 4,
 "nbformat_minor": 5
}
